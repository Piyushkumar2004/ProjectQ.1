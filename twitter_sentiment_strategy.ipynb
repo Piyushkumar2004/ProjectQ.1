# Import necessary libraries
import pandas as pd
import numpy as np
import yfinance as yf
import matplotlib.pyplot as plt
import datetime as dt
import os

# Set the plot style to 'ggplot'
plt.style.use('ggplot')

# Define the data folder and file name for the sentiment data CSV
data_folder = 'C:\\Users\\Dell\\Downloads'  
file_name = 'sentiment_data.csv'  

# Read the sentiment data from the CSV file
sentiment_df = pd.read_csv(os.path.join(data_folder, file_name))

# Convert the 'date' column to datetime format
sentiment_df['date'] = pd.to_datetime(sentiment_df['date'])

# Set the index to be a multi-index consisting of 'date' and 'symbol'
sentiment_df = sentiment_df.set_index(['date', 'symbol'])

# Calculate the engagement ratio as twitter comments divided by twitter likes
sentiment_df['engagement_ratio'] = sentiment_df['twitterComments'] / sentiment_df['twitterLikes']

# Filter the data to include only rows with more than 20 likes and more than 10 comments
sentiment_df = sentiment_df[(sentiment_df['twitterLikes'] > 20) & (sentiment_df['twitterComments'] > 10)]

# Aggregate the engagement ratio by month and symbol, calculating the mean engagement ratio
aggragated_df = (sentiment_df.reset_index('symbol').groupby([pd.Grouper(freq='ME'), 'symbol'])[['engagement_ratio']].mean())

# Rank the symbols by engagement ratio for each month
aggragated_df['rank'] = aggragated_df.groupby(level=0)['engagement_ratio'].transform(lambda x: x.rank(ascending=False))

# Filter to keep only the top 5 symbols (rank < 6) each month
filtered_df = aggragated_df[aggragated_df['rank'] < 6].copy()

# Reset the index to bring 'symbol' back as a column
filtered_df = filtered_df.reset_index(level=1)

# Adjust the date index by adding one day
filtered_df.index = filtered_df.index + pd.DateOffset(1)

# Reset and set the index again to include 'date' and 'symbol'
filtered_df = filtered_df.reset_index().set_index(['date', 'symbol'])

# Display the first 20 rows of the filtered DataFrame
filtered_df.head(20)

# Get the unique dates from the filtered DataFrame
dates = filtered_df.index.get_level_values('date').unique().tolist()

# Create a dictionary to store symbols for each date
fixed_dates = {}
for d in dates:
    fixed_dates[d.strftime('%Y-%m-%d')] = filtered_df.xs(d, level=0).index.tolist()

# Display the fixed dates dictionary
fixed_dates

# Get the list of unique symbols from the sentiment DataFrame
stocks_list = sentiment_df.index.get_level_values('symbol').unique().tolist()

# Download historical price data for the symbols from Yahoo Finance
prices_df = yf.download(tickers=stocks_list, start='2021-01-01', end='2023-03-01')

# Calculate daily returns as the logarithmic difference of adjusted close prices
returns_df = np.log(prices_df['Adj Close']).diff().iloc[1:]

# Initialize an empty DataFrame to store the portfolio returns
portfolio_df = pd.DataFrame()

# Loop over each start date in the fixed dates dictionary
for start_date in fixed_dates.keys():
    # Calculate the end date as the end of the month
    end_date = (pd.to_datetime(start_date) + pd.offsets.MonthEnd()).strftime('%Y-%m-%d')
    # Get the symbols for the start date
    cols = fixed_dates[start_date]
    # Calculate the mean return for the selected symbols over the date range
    temp_df = returns_df[start_date:end_date][cols].mean(axis=1).to_frame('portfolio_return')
    # Concatenate the results to the portfolio DataFrame
    portfolio_df = pd.concat([portfolio_df, temp_df], axis=0)

# Download historical price data for the NASDAQ index (QQQ)
qqq_df = yf.download(tickers='QQQ', start='2021-01-01', end='2023-03-01')

# Calculate daily returns for the NASDAQ index
qqq_ret = np.log(qqq_df['Adj Close']).diff().to_frame('nasdaq_return')

# Ensure there are no NaN values after calculating returns
portfolio_df = portfolio_df.dropna()
qqq_ret = qqq_ret.dropna()

# Merge the portfolio returns with the NASDAQ returns
portfolio_df = portfolio_df.merge(qqq_ret, left_index=True, right_index=True)

# Calculate cumulative returns for the portfolio and NASDAQ
cumulative_portfolio_return = (1 + portfolio_df['portfolio_return']).cumprod() - 1
cumulative_nasdaq_return = (1 + portfolio_df['nasdaq_return']).cumprod() - 1

# Combine the cumulative returns into a single DataFrame
cumulative_returns = pd.DataFrame({
    'Cumulative Portfolio Return': cumulative_portfolio_return,
    'Cumulative NASDAQ Return': cumulative_nasdaq_return
})

# Plot the cumulative returns
ax = cumulative_returns.plot(figsize=(16, 6), linestyle='-')
plt.title('Twitter Engagement Ratio Strategy Return Over Time')
plt.gca().yaxis.set_major_formatter(mtick.PercentFormatter(1))
plt.ylabel('Return')
plt.xlabel('Date')
plt.legend(['Cumulative Portfolio Return', 'Cumulative NASDAQ Return'])
plt.grid(True)
plt.show()
